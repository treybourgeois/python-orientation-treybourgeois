{
 "cells": [
  {
   "cell_type": "markdown",
   "metadata": {},
   "source": [
    "# Chapter 1 - Basic Python Types"
   ]
  },
  {
   "cell_type": "markdown",
   "metadata": {},
   "source": [
    "Everything to the **_left_** of the equal sign is a **_variable_** name, while everything to the right of the equal sign is a value that gets assigned to the variable name. \n",
    "This comes in handy when you want to reference a value later in your code."
   ]
  },
  {
   "cell_type": "code",
   "execution_count": 7,
   "metadata": {},
   "outputs": [],
   "source": [
    "number = 12345\n",
    "float_number = 12.345\n",
    "some_text = 'This is text (a string)!'\n",
    "a_boolean = True\n"
   ]
  },
  {
   "cell_type": "markdown",
   "metadata": {},
   "source": [
    "Go ahead and run the next cell to see what happens."
   ]
  },
  {
   "cell_type": "code",
   "execution_count": 13,
   "metadata": {},
   "outputs": [
    {
     "name": "stdout",
     "output_type": "stream",
     "text": [
      "12345\n",
      "12.345\n",
      "This is text (a string)!\n",
      "True\n"
     ]
    }
   ],
   "source": [
    "print(number)\n",
    "print(float_number)\n",
    "print(some_text)\n",
    "print(a_boolean)"
   ]
  },
  {
   "cell_type": "markdown",
   "metadata": {},
   "source": [
    "Notice how the _names_ don't show up, but the values the names represent do.\n",
    "Also, printing is cool!\n",
    "\n",
    "Just like SQL or Excel, python has _types_.\n",
    "We've already covered a few of the basic and most common types.\n",
    "\n",
    "* Integer - `int()`\n",
    "* Float - `float()`\n",
    "* String - `str()`\n",
    "* Bool - `bool()`\n"
   ]
  },
  {
   "cell_type": "markdown",
   "metadata": {},
   "source": [
    "### YOUR TURN\n",
    "\n",
    "Go ahead and create 4 new variables: int, float, str, and bool\n"
   ]
  },
  {
   "cell_type": "code",
   "execution_count": 39,
   "metadata": {},
   "outputs": [],
   "source": [
    "whole = 12345\n",
    "dec = 12.34\n",
    "words = \"Python is most likely going to crush my brain\"\n",
    "fact = True"
   ]
  },
  {
   "cell_type": "markdown",
   "metadata": {},
   "source": [
    "Print them out just like we did above."
   ]
  },
  {
   "cell_type": "code",
   "execution_count": 40,
   "metadata": {},
   "outputs": [
    {
     "name": "stdout",
     "output_type": "stream",
     "text": [
      "12345\n",
      "12.34\n",
      "Python is most likely going to crush my brain\n",
      "True\n"
     ]
    }
   ],
   "source": [
    "print(whole)\n",
    "print(dec)\n",
    "print(words)\n",
    "print(fact)\n"
   ]
  },
  {
   "cell_type": "markdown",
   "metadata": {},
   "source": [
    "#### You can also check the **type** of a variable with the `type()` method. Check the types of the variables you created.\n",
    "- find the type `type(my_variable)`\n",
    "- print the type `print(type(my_variable))`\n"
   ]
  },
  {
   "cell_type": "code",
   "execution_count": 42,
   "metadata": {},
   "outputs": [
    {
     "data": {
      "text/plain": [
       "12345"
      ]
     },
     "execution_count": 42,
     "metadata": {},
     "output_type": "execute_result"
    }
   ],
   "source": [
    "type(whole)\n",
    "type(dec)\n",
    "type(words)\n",
    "type(fact)"
   ]
  },
  {
   "cell_type": "code",
   "execution_count": 44,
   "metadata": {},
   "outputs": [
    {
     "name": "stdout",
     "output_type": "stream",
     "text": [
      "<class 'int'>\n",
      "<class 'float'>\n",
      "<class 'str'>\n",
      "<class 'bool'>\n"
     ]
    }
   ],
   "source": [
    "print(type(whole))\n",
    "print(type(dec))\n",
    "print(type(words))\n",
    "print(type(fact)) "
   ]
  },
  {
   "cell_type": "markdown",
   "metadata": {},
   "source": [
    "<hr>"
   ]
  },
  {
   "cell_type": "markdown",
   "metadata": {},
   "source": [
    "## Integer / Float\n",
    "Wanna do some math? \n",
    "These characters should be your go-to.\n",
    "They can do everything you think numbers should be able to do.\n",
    "\n",
    "Take it away `int`s!"
   ]
  },
  {
   "cell_type": "code",
   "execution_count": 45,
   "metadata": {},
   "outputs": [
    {
     "name": "stdout",
     "output_type": "stream",
     "text": [
      "2\n",
      "5\n",
      "6\n",
      "3.0\n",
      "2.5\n"
     ]
    }
   ],
   "source": [
    "print(1 + 1)\n",
    "print(10 - 5)\n",
    "print(2 * 3)\n",
    "print(6 / 2)\n",
    "print(5 / 2)"
   ]
  },
  {
   "cell_type": "markdown",
   "metadata": {},
   "source": [
    "Now the `float`"
   ]
  },
  {
   "cell_type": "code",
   "execution_count": 52,
   "metadata": {},
   "outputs": [
    {
     "name": "stdout",
     "output_type": "stream",
     "text": [
      "2.0\n",
      "4.550000000000001\n",
      "0.083810205\n",
      "13312.921007788058\n"
     ]
    }
   ],
   "source": [
    "print(1.0 + 1.0)\n",
    "print(10.3 - 5.75)\n",
    "print(0.12345 * 0.6789)\n",
    "print(2_000_000.123 / 150.23)"
   ]
  },
  {
   "cell_type": "markdown",
   "metadata": {},
   "source": [
    "Since we know how to use variables..\n",
    "Let's create a few variables to use in a couple equations."
   ]
  },
  {
   "cell_type": "code",
   "execution_count": 53,
   "metadata": {},
   "outputs": [],
   "source": [
    "left = 3\n",
    "right = 4"
   ]
  },
  {
   "cell_type": "code",
   "execution_count": 54,
   "metadata": {},
   "outputs": [
    {
     "data": {
      "text/plain": [
       "7"
      ]
     },
     "execution_count": 54,
     "metadata": {},
     "output_type": "execute_result"
    }
   ],
   "source": [
    "left + right"
   ]
  },
  {
   "cell_type": "code",
   "execution_count": 55,
   "metadata": {},
   "outputs": [
    {
     "data": {
      "text/plain": [
       "-1"
      ]
     },
     "execution_count": 55,
     "metadata": {},
     "output_type": "execute_result"
    }
   ],
   "source": [
    "left - right"
   ]
  },
  {
   "cell_type": "code",
   "execution_count": 56,
   "metadata": {},
   "outputs": [
    {
     "data": {
      "text/plain": [
       "12"
      ]
     },
     "execution_count": 56,
     "metadata": {},
     "output_type": "execute_result"
    }
   ],
   "source": [
    "left * right"
   ]
  },
  {
   "cell_type": "code",
   "execution_count": 57,
   "metadata": {},
   "outputs": [
    {
     "data": {
      "text/plain": [
       "0.75"
      ]
     },
     "execution_count": 57,
     "metadata": {},
     "output_type": "execute_result"
    }
   ],
   "source": [
    "left / right"
   ]
  },
  {
   "cell_type": "markdown",
   "metadata": {},
   "source": [
    "### Order of Operations..\n",
    "\n",
    "You can use parenthesis to help orchestrate your math flow.\n",
    "Remember **PEMDAS**??\n",
    "* `P`: Parentheses first\n",
    "* `E`: Exponents (ie Powers and Square Roots, etc.)\n",
    "* `MD`: Multiplication and Division (left-to-right)\n",
    "* `AS`: Addition and Subtraction (left-to-right)\n",
    "\n",
    "These rules still apply."
   ]
  },
  {
   "cell_type": "code",
   "execution_count": 58,
   "metadata": {},
   "outputs": [
    {
     "data": {
      "text/plain": [
       "20.4"
      ]
     },
     "execution_count": 58,
     "metadata": {},
     "output_type": "execute_result"
    }
   ],
   "source": [
    "20 * 2 - (1/2) * 9.8 * 2**2"
   ]
  },
  {
   "cell_type": "markdown",
   "metadata": {},
   "source": [
    "**Note: \\*\\* is exponent** (`2**2` means 2 to the second power)"
   ]
  },
  {
   "cell_type": "markdown",
   "metadata": {},
   "source": [
    "### Let's use variables"
   ]
  },
  {
   "cell_type": "code",
   "execution_count": 59,
   "metadata": {},
   "outputs": [
    {
     "data": {
      "text/plain": [
       "2000"
      ]
     },
     "execution_count": 59,
     "metadata": {},
     "output_type": "execute_result"
    }
   ],
   "source": [
    "foo = 1000\n",
    "bar = 1001\n",
    "baz = -1\n",
    "foo + bar + baz"
   ]
  },
  {
   "cell_type": "markdown",
   "metadata": {},
   "source": [
    "### YOUR TURN\n",
    "\n",
    "Do some math! \n",
    "- Create two new variables and add them together.\n",
    "- Create yet another variable..\n",
    "- And add it to the other two!"
   ]
  },
  {
   "cell_type": "code",
   "execution_count": 67,
   "metadata": {},
   "outputs": [
    {
     "name": "stdout",
     "output_type": "stream",
     "text": [
      "25\n",
      "35\n"
     ]
    }
   ],
   "source": [
    "var1 = 12\n",
    "var2 = 13\n",
    "var3 = 10\n",
    "print(var1 + var2)\n",
    "print(var1 + var2 + var3)"
   ]
  },
  {
   "cell_type": "markdown",
   "metadata": {},
   "source": [
    "<hr>\n",
    "\n",
    "## String\n",
    "\n",
    "_Text_.\n",
    "Nothing too special here!"
   ]
  },
  {
   "cell_type": "code",
   "execution_count": 68,
   "metadata": {},
   "outputs": [
    {
     "name": "stdout",
     "output_type": "stream",
     "text": [
      "I am text.. With single quotes!\n",
      "I am text.. With DOUBLE quotes!\n",
      "I am text.. Using both!!!!\n"
     ]
    }
   ],
   "source": [
    "print('I am text.. With single quotes!')\n",
    "print(\"I am text.. With DOUBLE quotes!\")\n",
    "print(\"I am text..\" + ' Using both!!!!')"
   ]
  },
  {
   "cell_type": "markdown",
   "metadata": {},
   "source": [
    "With python, you can do some pretty cool things with text.\n",
    "Right out of the box!\n",
    "What if we wanted to dynamically create a greeting, for example."
   ]
  },
  {
   "cell_type": "code",
   "execution_count": 69,
   "metadata": {},
   "outputs": [],
   "source": [
    "greeting_name = 'FooBar'\n",
    "greeting = 'Hello, my name is.. {name}'"
   ]
  },
  {
   "cell_type": "markdown",
   "metadata": {},
   "source": [
    "Notice the `name` parameter there?\n",
    "We can substitute that with a variable!"
   ]
  },
  {
   "cell_type": "code",
   "execution_count": 70,
   "metadata": {},
   "outputs": [
    {
     "name": "stdout",
     "output_type": "stream",
     "text": [
      "Hello, my name is.. FooBar\n",
      "Hello, my name is.. NotFooBar\n"
     ]
    }
   ],
   "source": [
    "print(greeting.format(name=greeting_name))\n",
    "\n",
    "a_different_name = 'NotFooBar'\n",
    "print(greeting.format(name=a_different_name))"
   ]
  },
  {
   "cell_type": "markdown",
   "metadata": {},
   "source": [
    "### YOUR TURN\n",
    "\n",
    "\n",
    "First declare a name variable..\n",
    "Then print it using the greeting from before!"
   ]
  },
  {
   "cell_type": "code",
   "execution_count": 71,
   "metadata": {
    "scrolled": true
   },
   "outputs": [
    {
     "name": "stdout",
     "output_type": "stream",
     "text": [
      "Hi, my name is Slim, my name is Shady?\n"
     ]
    }
   ],
   "source": [
    "Song_Lyrics = \"Hi, my name is {what}, my name is {who}?\"\n",
    "what_name = \"Slim\"\n",
    "who_name = \"Shady\"\n",
    "print(Song_Lyrics.format(what = what_name, who = who_name))\n"
   ]
  },
  {
   "cell_type": "markdown",
   "metadata": {},
   "source": [
    "<hr>\n",
    "\n",
    "### Thoughts on _Methods_\n",
    "\n",
    "Remember the `SUM`, `MIN`, or `AVG` functions in SQL?\n",
    "You would use them like this: \n",
    "```postgresql\n",
    "SELECT SUM(column) as sum_of_column \n",
    "FROM table\n",
    "```\n",
    "\n",
    "In this scenario, `SUM` is a _function_. \n",
    "Some function attributes might be:\n",
    "* Can take an argument, or arguments\n",
    "* Available to you with no strings attached.. \n",
    "Use right out of the box\n",
    "* Performs an _action_.\n",
    "It goes out and tries to _do_ something. \n",
    "**_Verb!!_**\n",
    "\n",
    "_Methods_ are pretty much the same thing..\n",
    "Except they **_are attached to another object_**. \n",
    "They are actions specific to an object."
   ]
  },
  {
   "cell_type": "markdown",
   "metadata": {},
   "source": [
    "As an example.. \n",
    "```\n",
    "People can run.\n",
    "Trees cannot run.\n",
    "\n",
    "People can drive.\n",
    "Trees cannot drive.\n",
    "\n",
    "People can consume water.\n",
    "Trees can consume water.\n",
    "```\n",
    "\n",
    "In this scenario, people and trees are objects.\n",
    "Run, drive, and consume are all actions. \n",
    "\n",
    "People would have the following methods: \n",
    "* run\n",
    "* drive\n",
    "* consume \n",
    "\n",
    "Tree would only have the following method:\n",
    "* consume\n",
    "\n",
    "If this were code, it may look something like this:\n",
    "```python\n",
    "people.run()\n",
    "people.drive()\n",
    "people.consume('water')\n",
    "\n",
    "trees.consume('water')\n",
    "```\n",
    "\n",
    "Most objects in python have _methods_ associated with them. \n",
    "They have the ability to do things!\n",
    "Just like people and trees can do things.\n",
    "The syntax for that looks like: `object.method()`."
   ]
  },
  {
   "cell_type": "markdown",
   "metadata": {},
   "source": [
    "<hr>\n",
    "\n",
    "## A Few of String Methods"
   ]
  },
  {
   "cell_type": "code",
   "execution_count": 73,
   "metadata": {},
   "outputs": [],
   "source": [
    "sentence = 'this is a sentence! '"
   ]
  },
  {
   "cell_type": "markdown",
   "metadata": {},
   "source": [
    "String's have quite a few methods available for use (and [many more](https://docs.python.org/2.5/lib/string-methods.html)).\n",
    "* `format` - We did this one up above! \n",
    "Allows you to pass variables into some text.\n",
    "Check [this](https://docs.python.org/3/library/string.html#custom-string-formatting) out for some other ways to use it. \n",
    "* `capitalize` - Capitalize the first letter\n",
    "* `upper` - Uppercase all the letters in the string\n",
    "* `replace` - Replace part of the string with something else\n",
    "* `strip` - Remove all leading and trailing whitespaces"
   ]
  },
  {
   "cell_type": "code",
   "execution_count": 74,
   "metadata": {},
   "outputs": [
    {
     "name": "stdout",
     "output_type": "stream",
     "text": [
      "This is a sentence! \n",
      "this is a sentence! \n",
      "this is a not a sentence! \n",
      "this is a sentence!\n"
     ]
    }
   ],
   "source": [
    "print(sentence.capitalize())\n",
    "print(sentence.lower())\n",
    "print(sentence.replace('sentence', 'not a sentence'))\n",
    "print(sentence.strip())"
   ]
  },
  {
   "cell_type": "code",
   "execution_count": null,
   "metadata": {},
   "outputs": [],
   "source": []
  },
  {
   "cell_type": "markdown",
   "metadata": {},
   "source": [
    "### YOUR TURN\n",
    "\n",
    "* Assign a string to a new variable.\n",
    "* Run `capitalize` on the string. \n",
    "What happens?\n",
    "* Lowercase the variable\n",
    "* Replace a word.\n",
    "Replace another word!\n",
    "* _Titlecase_ the string. \n",
    "This may require you to look up the method you need to use!"
   ]
  },
  {
   "cell_type": "code",
   "execution_count": 111,
   "metadata": {},
   "outputs": [
    {
     "name": "stdout",
     "output_type": "stream",
     "text": [
      "This is a python test\n",
      "this is a python test\n",
      "this is a Different Snake test\n",
      "This Is A Python Test\n",
      "is is a py\n"
     ]
    }
   ],
   "source": [
    "my_var = \"this is a python test\"\n",
    "print(my_var.capitalize())\n",
    "print(my_var.lower())\n",
    "print(my_var.replace(\"python\",\"Different Snake\"))\n",
    "print(my_var.title())\n",
    "print(my_var.strip(\"hon test\"))"
   ]
  },
  {
   "cell_type": "markdown",
   "metadata": {},
   "source": [
    "<hr>\n",
    "\n",
    "## Boolean\n",
    "\n",
    "True or False?? \n",
    "Yes or No? "
   ]
  },
  {
   "cell_type": "code",
   "execution_count": 90,
   "metadata": {},
   "outputs": [
    {
     "name": "stdout",
     "output_type": "stream",
     "text": [
      "True False\n"
     ]
    }
   ],
   "source": [
    "this = True\n",
    "that = False\n",
    "\n",
    "print(this, that)"
   ]
  },
  {
   "cell_type": "markdown",
   "metadata": {},
   "source": [
    "We can _compare_ values to check whether or not they are True or False."
   ]
  },
  {
   "cell_type": "code",
   "execution_count": null,
   "metadata": {},
   "outputs": [],
   "source": [
    "print(this == True)\n",
    "print(that == True)"
   ]
  },
  {
   "cell_type": "markdown",
   "metadata": {},
   "source": [
    "Just like SQL, we can reference _logical operators_ in our code."
   ]
  },
  {
   "cell_type": "code",
   "execution_count": null,
   "metadata": {},
   "outputs": [],
   "source": [
    "print(this or that)\n",
    "print(this and that)\n",
    "print(this and not that)"
   ]
  },
  {
   "cell_type": "markdown",
   "metadata": {},
   "source": [
    "Ok, these have all been absolute / static. \n",
    "What else is can evaluate to True or False?"
   ]
  },
  {
   "cell_type": "code",
   "execution_count": 95,
   "metadata": {},
   "outputs": [
    {
     "name": "stdout",
     "output_type": "stream",
     "text": [
      "True\n",
      "False\n",
      "False\n",
      "True\n",
      "True\n"
     ]
    },
    {
     "ename": "TypeError",
     "evalue": "'bool' object is not callable",
     "output_type": "error",
     "traceback": [
      "\u001b[1;31m---------------------------------------------------------------------------\u001b[0m",
      "\u001b[1;31mTypeError\u001b[0m                                 Traceback (most recent call last)",
      "\u001b[1;32m<ipython-input-95-98878b305982>\u001b[0m in \u001b[0;36m<module>\u001b[1;34m\u001b[0m\n\u001b[0;32m      5\u001b[0m \u001b[0mprint\u001b[0m\u001b[1;33m(\u001b[0m\u001b[1;36m1\u001b[0m \u001b[1;33m<\u001b[0m \u001b[1;36m2\u001b[0m\u001b[1;33m)\u001b[0m\u001b[1;33m\u001b[0m\u001b[1;33m\u001b[0m\u001b[0m\n\u001b[0;32m      6\u001b[0m \u001b[0mprint\u001b[0m\u001b[1;33m(\u001b[0m\u001b[1;36m35\u001b[0m \u001b[1;33m==\u001b[0m \u001b[1;36m35.0\u001b[0m\u001b[1;33m)\u001b[0m\u001b[1;33m\u001b[0m\u001b[1;33m\u001b[0m\u001b[0m\n\u001b[1;32m----> 7\u001b[1;33m \u001b[0mprint\u001b[0m\u001b[1;33m(\u001b[0m\u001b[0mbool\u001b[0m\u001b[1;33m(\u001b[0m\u001b[1;34m'k'\u001b[0m\u001b[1;33m)\u001b[0m\u001b[1;33m)\u001b[0m\u001b[1;33m\u001b[0m\u001b[1;33m\u001b[0m\u001b[0m\n\u001b[0m",
      "\u001b[1;31mTypeError\u001b[0m: 'bool' object is not callable"
     ]
    }
   ],
   "source": [
    "print('foo' == 'foo')\n",
    "print('foo' == 'bar')\n",
    "print('foo' != 'foo')\n",
    "\n",
    "print(1 < 2)\n",
    "print(35 == 35.0)\n",
    "print(bool('k'))"
   ]
  },
  {
   "cell_type": "markdown",
   "metadata": {},
   "source": [
    "And of course.. We can combine them."
   ]
  },
  {
   "cell_type": "code",
   "execution_count": 96,
   "metadata": {},
   "outputs": [
    {
     "name": "stdout",
     "output_type": "stream",
     "text": [
      "False\n"
     ]
    }
   ],
   "source": [
    "print(True if '' and 1 else False)"
   ]
  },
  {
   "cell_type": "markdown",
   "metadata": {},
   "source": [
    "### YOUR TURN\n",
    "\n",
    "* Create a variable with a boolean.\n",
    "* Print it\n",
    "* Check if it is equal to True\n",
    "* Check if it is equal to False\n",
    "* How else can you test this?"
   ]
  },
  {
   "cell_type": "code",
   "execution_count": 108,
   "metadata": {},
   "outputs": [
    {
     "name": "stdout",
     "output_type": "stream",
     "text": [
      "True\n",
      "True\n",
      "False\n",
      "False\n",
      "True\n",
      "True\n",
      "False\n"
     ]
    }
   ],
   "source": [
    "my_bool = True\n",
    "print(my_bool) \n",
    "print(my_bool == True)\n",
    "print(my_bool == False)\n",
    "print(my_bool != True)\n",
    "print(my_bool != False)\n",
    "print(True if \"my_bool\" and 1 else False)\n",
    "print(False if \"my_bool\" and 1 else True)"
   ]
  }
 ],
 "metadata": {
  "kernelspec": {
   "display_name": "Python 3",
   "language": "python",
   "name": "python3"
  },
  "language_info": {
   "codemirror_mode": {
    "name": "ipython",
    "version": 3
   },
   "file_extension": ".py",
   "mimetype": "text/x-python",
   "name": "python",
   "nbconvert_exporter": "python",
   "pygments_lexer": "ipython3",
   "version": "3.8.5"
  }
 },
 "nbformat": 4,
 "nbformat_minor": 2
}
