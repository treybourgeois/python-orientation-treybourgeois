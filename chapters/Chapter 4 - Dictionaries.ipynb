{
 "cells": [
  {
   "cell_type": "markdown",
   "metadata": {},
   "source": [
    "# Dictionaries\n",
    "\n",
    "<img src=\"./images/dictionary_example.png\" alt=\"dictionary\" style=\"width: 800px;\"/>\n",
    "\n",
    "\n",
    "## How do we (as humans) use a dictionary?\n",
    "\n",
    "We use dictionaries to look up a meaning to a word.\n",
    "Every word that we look up is the **_key_**, and the definition is the **_value_**.\n",
    "\n",
    "You can think of python dictionaries in a similar way. \n",
    "Dictionaries hold content that we need, and we can only access that content through a key."
   ]
  },
  {
   "cell_type": "markdown",
   "metadata": {},
   "source": [
    "<hr>\n",
    "\n",
    "## Creating a dictionary\n",
    "\n",
    "You can create dictionaries in a couple of different ways."
   ]
  },
  {
   "cell_type": "markdown",
   "metadata": {},
   "source": [
    "### First Way"
   ]
  },
  {
   "cell_type": "code",
   "execution_count": 1,
   "metadata": {},
   "outputs": [
    {
     "name": "stdout",
     "output_type": "stream",
     "text": [
      "{'name': 'Kevin', 'breed': 'Bulldog', 'age': 5}\n"
     ]
    }
   ],
   "source": [
    "# Create an empty dictionary\n",
    "animal = dict()\n",
    "\n",
    "# Add key/value pairs\n",
    "animal[\"name\"] = \"Kevin\"\n",
    "animal[\"breed\"] = \"Bulldog\"\n",
    "animal[\"age\"] = 5\n",
    "\n",
    "print(animal)"
   ]
  },
  {
   "cell_type": "markdown",
   "metadata": {},
   "source": [
    "### Second Way"
   ]
  },
  {
   "cell_type": "code",
   "execution_count": 2,
   "metadata": {},
   "outputs": [
    {
     "name": "stdout",
     "output_type": "stream",
     "text": [
      "{'name': 'Kevin', 'breed': 'Bulldog', 'age': 5}\n"
     ]
    }
   ],
   "source": [
    "animal = {\n",
    "    \"name\": \"Kevin\",\n",
    "    \"breed\": \"Bulldog\",\n",
    "    \"age\": 5\n",
    "}\n",
    "\n",
    "print(animal)"
   ]
  },
  {
   "cell_type": "markdown",
   "metadata": {},
   "source": [
    "<hr>\n",
    "\n",
    "## Reviewing Syntax\n",
    "\n",
    "Dictionaries are recognizable by their *__curly braces__*.\n",
    "Lists have *__square brackets__*, dictionaries have *__curly braces__*.\n",
    "\n",
    "Dictionaries look like this:\n",
    "```\n",
    "my_dictionary = { key : value, another_key : another_value }\n",
    "```\n",
    "\n",
    "Both the key and value can be just about anything.. \n",
    "But more often than not, the key will be a string.\n",
    "The key and value are separated by a colon, and the different items in your dictionary are separated by a comma."
   ]
  },
  {
   "cell_type": "markdown",
   "metadata": {},
   "source": [
    "<hr>\n",
    "\n",
    "### YOUR TURN\n",
    "\n",
    "Time to create a dictionary!\n",
    "* Create a dictionary where the keys are \"one\" through \"ten\" and the values are 1 through 10, respectively.\n",
    "* Do the inverse!\n",
    "Create a dictionary where the keys are 1 through 10 and the values are \"one\" through \"ten\", respectively."
   ]
  },
  {
   "cell_type": "code",
   "execution_count": 33,
   "metadata": {},
   "outputs": [
    {
     "name": "stdout",
     "output_type": "stream",
     "text": [
      "{'one': '1', 'two': '2', 'three': '3', 'four': '4', 'five': '5', 'six': '6', 'seven': '7', 'eight': '8', 'nine': '9', 'ten': '10'}\n",
      "{'1': 'one', '2': 'two', '3': 'three'}\n"
     ]
    }
   ],
   "source": [
    "dict_test = {\n",
    "    'one':'1','two':'2','three':'3','four':'4','five':'5', 'six':'6', 'seven':'7','eight':'8', 'nine':'9','ten':'10'\n",
    "}\n",
    "print(dict_test)\n",
    "\n",
    "dict_test_in = {\n",
    "    '1':'one', '2':'two','3':'three'\n",
    "}\n",
    "print(dict_test_in)"
   ]
  },
  {
   "cell_type": "markdown",
   "metadata": {},
   "source": [
    "<hr>\n",
    "\n",
    "## Accessing Values\n",
    "\n",
    "So far, we've created a couple dictionaries. \n",
    "\n",
    "Let's take a look at our animal dictionary again. "
   ]
  },
  {
   "cell_type": "code",
   "execution_count": 6,
   "metadata": {},
   "outputs": [
    {
     "name": "stdout",
     "output_type": "stream",
     "text": [
      "{'name': 'Kevin', 'breed': 'Bulldog', 'age': 5}\n"
     ]
    }
   ],
   "source": [
    "print(animal)"
   ]
  },
  {
   "cell_type": "markdown",
   "metadata": {},
   "source": [
    "A question we may ask is..\n",
    "> **What breed is our animal?**\n",
    "\n",
    "We know that our dictionary has the answer. \n",
    "Just by looking at it, we know it's 'Bulldog'. \n",
    "But, we need to access it programatically. \n",
    "\n",
    "We can access a dictionary's value _by it's key_."
   ]
  },
  {
   "cell_type": "code",
   "execution_count": 7,
   "metadata": {},
   "outputs": [
    {
     "name": "stdout",
     "output_type": "stream",
     "text": [
      "Bulldog\n"
     ]
    }
   ],
   "source": [
    "print(animal['breed'])"
   ]
  },
  {
   "cell_type": "markdown",
   "metadata": {},
   "source": [
    "**What is the animal's name??**"
   ]
  },
  {
   "cell_type": "code",
   "execution_count": 8,
   "metadata": {},
   "outputs": [
    {
     "name": "stdout",
     "output_type": "stream",
     "text": [
      "Kevin\n"
     ]
    }
   ],
   "source": [
    "print(animal['name'])"
   ]
  },
  {
   "cell_type": "markdown",
   "metadata": {},
   "source": [
    "In our examples, we were able to access our animals different attributes through the key. \n",
    "\n",
    "```python\n",
    "variable[ key ]\n",
    "```\n",
    "\n",
    "Note the square brackets!"
   ]
  },
  {
   "cell_type": "markdown",
   "metadata": {},
   "source": [
    "### YOUR TURN\n",
    "\n",
    "* Print out the values for the even numbers of your first number dictionary.\n",
    "* Print out the odd numbers for the other!"
   ]
  },
  {
   "cell_type": "code",
   "execution_count": 20,
   "metadata": {},
   "outputs": [
    {
     "name": "stdout",
     "output_type": "stream",
     "text": [
      "2 4 6 8 10\n"
     ]
    }
   ],
   "source": [
    "print(dict_test['two'],dict_test['four'],dict_test['six'],dict_test['eight'],dict_test['ten'])"
   ]
  },
  {
   "cell_type": "markdown",
   "metadata": {},
   "source": [
    "<hr>\n",
    "\n",
    "## Dictionary Methods\n",
    "\n",
    "Just like lists, dictionaries also have _methods_ that we can use.\n",
    "\n",
    "* `clear` - Clears out the keys and values\n",
    "* `get` - A safer way to access a value\n",
    "* `keys` - Returns all the keys in your dictionary\n",
    "* `values` - Returns all the values\n",
    "* `items` - Returns keys and values as pairs!\n",
    "* `update` - Merges two dictionaries together\n",
    "* `pop` - returns a value by key and removes it from the dictionary at the same time\n",
    "\n",
    "Go ahead and run the next cell. \n",
    "See what happens to our dictionary!"
   ]
  },
  {
   "cell_type": "code",
   "execution_count": 21,
   "metadata": {},
   "outputs": [
    {
     "name": "stdout",
     "output_type": "stream",
     "text": [
      "Keys --->  dict_keys(['name', 'breed', 'age'])\n",
      "Values ->  dict_values(['Kevin', 'Bulldog', 5])\n",
      "Items -->  dict_items([('name', 'Kevin'), ('breed', 'Bulldog'), ('age', 5)])\n",
      "\n",
      "Name --->  Kevin\n",
      "Dict --->  {'breed': 'Bulldog', 'age': 5}\n",
      "Dict --->  {'breed': 'Bulldog', 'age': 5, 'name': 'Bert', 'owner': 'Ernie'}\n",
      "Animal ->  {}\n"
     ]
    }
   ],
   "source": [
    "print('Keys ---> ', animal.keys())\n",
    "print('Values -> ', animal.values())\n",
    "print('Items --> ', animal.items())\n",
    "\n",
    "name = animal.pop('name')\n",
    "print('\\nName ---> ', name)\n",
    "print('Dict ---> ', animal)\n",
    "\n",
    "animal.update({'name': 'Bert', 'owner': 'Ernie'})\n",
    "print('Dict ---> ', animal)\n",
    "\n",
    "animal.clear()\n",
    "print('Animal -> ', animal)"
   ]
  },
  {
   "cell_type": "markdown",
   "metadata": {},
   "source": [
    "<hr>\n",
    "\n",
    "### YOUR TURN\n",
    "\n",
    "* Check the keys of your first number dictionary.\n",
    "* Check the values of the same dictionary.\n",
    "* Remove the highest number, and print out the number.\n",
    "Then, print the dictionary to make sure the number is gone.\n",
    "* Merge number dictionary 1 with number dictionary 2 and print it out.\n",
    "* Clear number dictionary 2."
   ]
  },
  {
   "cell_type": "code",
   "execution_count": 39,
   "metadata": {},
   "outputs": [
    {
     "name": "stdout",
     "output_type": "stream",
     "text": [
      "dict_keys(['one', 'two', 'three', 'four', 'five', 'six', 'seven', 'eight', 'nine'])\n"
     ]
    }
   ],
   "source": [
    "print(dict_test.keys())"
   ]
  },
  {
   "cell_type": "code",
   "execution_count": 40,
   "metadata": {},
   "outputs": [
    {
     "name": "stdout",
     "output_type": "stream",
     "text": [
      "dict_values(['1', '2', '3', '4', '5', '6', '7', '8', '9'])\n"
     ]
    }
   ],
   "source": [
    "print(dict_test.values())"
   ]
  },
  {
   "cell_type": "code",
   "execution_count": 41,
   "metadata": {},
   "outputs": [
    {
     "ename": "KeyError",
     "evalue": "'ten'",
     "output_type": "error",
     "traceback": [
      "\u001b[1;31m---------------------------------------------------------------------------\u001b[0m",
      "\u001b[1;31mKeyError\u001b[0m                                  Traceback (most recent call last)",
      "\u001b[1;32m<ipython-input-41-0e3309aabe5a>\u001b[0m in \u001b[0;36m<module>\u001b[1;34m\u001b[0m\n\u001b[1;32m----> 1\u001b[1;33m \u001b[0mten\u001b[0m \u001b[1;33m=\u001b[0m \u001b[0mdict_test\u001b[0m\u001b[1;33m.\u001b[0m\u001b[0mpop\u001b[0m\u001b[1;33m(\u001b[0m\u001b[1;34m'ten'\u001b[0m\u001b[1;33m)\u001b[0m\u001b[1;33m\u001b[0m\u001b[1;33m\u001b[0m\u001b[0m\n\u001b[0m\u001b[0;32m      2\u001b[0m \u001b[0mprint\u001b[0m\u001b[1;33m(\u001b[0m\u001b[0mten\u001b[0m\u001b[1;33m)\u001b[0m\u001b[1;33m\u001b[0m\u001b[1;33m\u001b[0m\u001b[0m\n",
      "\u001b[1;31mKeyError\u001b[0m: 'ten'"
     ]
    }
   ],
   "source": [
    "ten = dict_test.pop('ten')\n",
    "print(ten)\n"
   ]
  },
  {
   "cell_type": "code",
   "execution_count": 37,
   "metadata": {},
   "outputs": [
    {
     "name": "stdout",
     "output_type": "stream",
     "text": [
      "{'one': '1', 'two': '2', 'three': '3', 'four': '4', 'five': '5', 'six': '6', 'seven': '7', 'eight': '8', 'nine': '9'}\n"
     ]
    }
   ],
   "source": [
    "print(dict_test)"
   ]
  },
  {
   "cell_type": "code",
   "execution_count": 43,
   "metadata": {},
   "outputs": [
    {
     "name": "stdout",
     "output_type": "stream",
     "text": [
      "None\n"
     ]
    }
   ],
   "source": [
    "print(dict_test_in.clear())"
   ]
  },
  {
   "cell_type": "code",
   "execution_count": null,
   "metadata": {},
   "outputs": [],
   "source": []
  }
 ],
 "metadata": {
  "kernelspec": {
   "display_name": "Python 3",
   "language": "python",
   "name": "python3"
  },
  "language_info": {
   "codemirror_mode": {
    "name": "ipython",
    "version": 3
   },
   "file_extension": ".py",
   "mimetype": "text/x-python",
   "name": "python",
   "nbconvert_exporter": "python",
   "pygments_lexer": "ipython3",
   "version": "3.8.5"
  }
 },
 "nbformat": 4,
 "nbformat_minor": 2
}
